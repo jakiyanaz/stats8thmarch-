{
 "cells": [
  {
   "cell_type": "markdown",
   "id": "3048fe8d-2b5e-4012-a172-ef41b659ccb4",
   "metadata": {},
   "source": [
    "## Q1. What is the Probability density function?"
   ]
  },
  {
   "cell_type": "markdown",
   "id": "d9ec0d45-4894-492d-9eea-a67eca42e2b7",
   "metadata": {},
   "source": [
    "Ans\n",
    "\n",
    "    The probability density function (PDF) is a fundamental concept in probability theory and statistics. It is a mathematical function that describes the probability distribution of a continuous random variable. "
   ]
  },
  {
   "cell_type": "markdown",
   "id": "8ca65ae7-b347-47a9-80cb-9d9b057ae436",
   "metadata": {},
   "source": [
    "## Q2. What are the types of Probability distribution?"
   ]
  },
  {
   "cell_type": "markdown",
   "id": "f94353de-8ed1-46fb-a473-1dbfa975f3b5",
   "metadata": {},
   "source": [
    "Ans\n",
    "\n",
    "    1. Normal/Gaussian distribution\n",
    "    2. Bernouli distribution\n",
    "    3. Uniform distribution\n",
    "    4. Log normal distribution\n",
    "    5. Poisson distribution\n",
    "    6. Pwer law distribution\n",
    "    7. Binomial distribution"
   ]
  },
  {
   "cell_type": "markdown",
   "id": "5c4426d5-40da-49fd-89d8-7f0fe9d0a461",
   "metadata": {},
   "source": [
    "## Q3. Write a Python function to calculate the probability density function of a normal distribution with given mean and standard deviation at a given point."
   ]
  },
  {
   "cell_type": "code",
   "execution_count": 1,
   "id": "509fab8c-f9fa-44a5-bf46-a074f2a4e3a1",
   "metadata": {},
   "outputs": [
    {
     "name": "stdout",
     "output_type": "stream",
     "text": [
      "0.12951759566589174\n"
     ]
    }
   ],
   "source": [
    "import math\n",
    "\n",
    "def normal_pdf(x, mean, std_dev):\n",
    "    coefficient = 1 / (std_dev * math.sqrt(2 * math.pi))\n",
    "    exponent = -0.5 * ((x - mean) / std_dev) ** 2\n",
    "    pdf = coefficient * math.exp(exponent)\n",
    "    return pdf\n",
    "\n",
    "mean = 0\n",
    "std_dev = 1\n",
    "x = 1.5\n",
    "pdf_value = normal_pdf(x, mean, std_dev)\n",
    "print(pdf_value)"
   ]
  },
  {
   "cell_type": "markdown",
   "id": "a5d56434-137f-453c-af24-307617d24904",
   "metadata": {},
   "source": [
    "## Q4. What are the properties of Binomial distribution? Give two examples of events where binomial distribution can be applied."
   ]
  },
  {
   "cell_type": "markdown",
   "id": "cd8fef7c-d2c1-4005-bcd0-24d68bd6f46d",
   "metadata": {},
   "source": [
    "Ans:\n",
    "    \n",
    "    Properties of Binomial distribution:\n",
    "    1. Fixed number of trials\n",
    "    2. Independent trials\n",
    "    3. Two possible outcomes\n",
    "    \n",
    "    eg: coin flipping, Quality control"
   ]
  },
  {
   "cell_type": "markdown",
   "id": "8919c1d3-9a50-48db-b040-843bf9fd873e",
   "metadata": {},
   "source": [
    "## Q5. Generate a random sample of size 1000 from a binomial distribution with probability of success 0.4 and plot a histogram of the results using matplotlib."
   ]
  },
  {
   "cell_type": "code",
   "execution_count": 2,
   "id": "c6800730-65c9-4968-b76c-59a79f1842c9",
   "metadata": {},
   "outputs": [
    {
     "name": "stdout",
     "output_type": "stream",
     "text": [
      "[1 1 0 0 0 0 1 0 1 1 0 1 0 1 1 1 1 1 1 0 0 1 1 0 1 0 0 0 0 0 1 1 1 0 0 1 0\n",
      " 1 0 1 1 1 0 1 1 0 1 0 1 0 1 1 1 1 1 1 1 0 0 1 0 1 1 1 1 1 0 0 1 1 0 0 0 1\n",
      " 0 1 1 0 1 0 1 1 0 0 0 1 1 1 1 1 1 0 0 1 1 0 0 1 1 1 1 0 1 0 1 0 0 0 1 1 1\n",
      " 1 0 0 1 1 0 0 1 1 0 0 1 0 1 1 1 1 0 0 1 0 1 1 0 1 1 1 1 1 0 0 1 1 0 1 1 0\n",
      " 0 1 1 0 0 1 0 1 0 0 1 1 1 1 1 1 1 1 0 0 1 1 1 0 1 1 1 0 1 1 1 0 0 1 1 1 0\n",
      " 0 1 0 0 1 1 0 0 1 1 1 0 1 1 1 1 0 1 1 1 1 1 0 1 1 1 0 1 0 1 1 0 0 0 0 0 1\n",
      " 1 1 0 1 1 1 1 1 0 1 0 1 1 1 0 1 1 1 0 1 1 1 1 1 0 1 1 1 1 1 1 1 1 1 0 0 1\n",
      " 0 0 0 1 1 0 1 0 1 1 0 1 1 0 1 0 0 0 1 0 1 1 1 1 1 1 0 1 0 0 0 1 0 0 1 1 1\n",
      " 1 0 1 1 1 0 0 1 0 1 0 0 1 0 1 1 1 1 1 1 0 1 1 0 0 1 1 1 1 1 0 0 0 1 1 1 1\n",
      " 0 1 0 1 0 0 1 0 1 1 0 0 0 0 1 1 1 1 1 0 0 0 1 1 1 0 1 0 0 0 0 1 0 0 1 1 0\n",
      " 0 0 1 0 0 1 0 1 0 1 1 1 0 1 0 1 1 0 1 1 0 1 1 1 1 1 0 0 1 1 0 0 1 1 1 1 1\n",
      " 0 1 1 0 1 1 0 1 1 1 1 1 0 0 1 1 1 1 1 0 1 1 1 1 0 1 0 1 1 0 0 0 0 0 0 1 1\n",
      " 1 0 1 0 1 0 0 0 1 1 1 0 1 1 0 1 0 1 1 1 0 1 1 1 0 1 1 1 0 1 1 1 1 1 0 0 1\n",
      " 1 1 1 0 1 1 1 1 1 1 0 1 1 1 1 0 1 1 1 1 0 0 1 1 0 0 0 0 0 0 1 0 0 1 0 1 1\n",
      " 0 0 0 0 1 0 0 1 0 0 0 1 1 0 0 1 1 1 0 0 1 1 0 1 1 0 1 1 1 0 1 1 1 0 1 0 1\n",
      " 1 0 1 1 1 1 1 0 1 0 0 1 1 1 0 1 1 1 0 1 0 0 1 0 0 1 1 1 0 1 0 1 1 1 1 1 0\n",
      " 0 1 1 0 1 0 0 0 1 0 1 0 0 1 0 1 0 1 1 1 1 1 0 1 1 0 1 1 1 0 1 1 1 1 0 1 1\n",
      " 0 1 0 0 1 1 0 0 0 0 0 0 1 0 1 1 1 0 0 1 0 0 1 1 1 1 0 1 1 0 0 0 0 0 1 0 0\n",
      " 0 1 0 1 0 1 0 1 0 1 0 1 0 0 1 0 1 1 1 1 1 0 1 1 1 1 1 1 1 1 1 1 1 1 0 1 1\n",
      " 1 0 0 0 0 1 0 1 1 0 0 1 0 1 0 1 1 1 1 0 0 0 0 1 1 1 0 0 1 0 1 0 0 0 0 1 1\n",
      " 1 1 0 1 1 1 0 0 1 0 1 1 1 1 1 1 0 1 0 1 0 1 1 1 1 1 0 0 1 1 1 0 0 1 1 0 1\n",
      " 1 0 1 1 1 0 1 1 1 0 1 1 0 0 0 1 0 0 0 0 0 0 1 0 1 0 0 1 1 1 0 0 0 1 1 0 1\n",
      " 1 1 1 0 0 1 0 1 0 0 1 0 1 1 1 0 0 1 1 0 1 0 1 1 1 0 1 1 1 1 1 1 0 1 0 0 0\n",
      " 1 0 1 1 1 1 1 1 1 1 0 1 0 1 0 1 0 0 1 1 1 1 0 0 1 0 1 0 1 0 1 0 0 1 1 1 1\n",
      " 0 1 1 0 1 1 1 0 1 1 0 1 0 0 1 0 0 1 1 1 1 0 1 0 1 0 1 1 0 0 1 1 1 0 1 0 1\n",
      " 1 1 1 0 0 1 0 1 1 1 1 0 1 1 1 0 1 1 1 1 1 1 0 0 0 1 1 0 1 1 1 1 0 0 1 1 1\n",
      " 1 0 1 1 1 1 0 0 1 1 0 1 1 1 1 1 1 1 1 1 1 0 1 0 0 1 1 1 0 0 1 0 1 1 0 1 1\n",
      " 1]\n"
     ]
    }
   ],
   "source": [
    "import numpy as np\n",
    "def generate_random_sample(probability_of_success, sample_size):\n",
    "    random_sample = np.random.binomial(1, probability_of_success, size=sample_size)\n",
    "    return random_sample\n",
    "\n",
    "p = 0.6  # Probability of success\n",
    "n = 1000  # Sample size\n",
    "sample = generate_random_sample(p, n)\n",
    "print(sample)"
   ]
  },
  {
   "cell_type": "markdown",
   "id": "996cdd11-06c7-46eb-b736-463c0e1662af",
   "metadata": {},
   "source": [
    "## Q6. Write a Python function to calculate the cumulative distribution function of a Poisson distribution with given mean at a given point."
   ]
  },
  {
   "cell_type": "code",
   "execution_count": 3,
   "id": "d52f01d8-b9f8-471b-8472-c0097e473bdf",
   "metadata": {},
   "outputs": [
    {
     "name": "stdout",
     "output_type": "stream",
     "text": [
      "0.9160820579686966\n"
     ]
    }
   ],
   "source": [
    "import math\n",
    "\n",
    "def poisson_cdf(x, mean):\n",
    "    cdf = 0\n",
    "    for i in range(x + 1):\n",
    "        cdf += (math.exp(-mean) * mean ** i) / math.factorial(i)\n",
    "    return cdf\n",
    "\n",
    "mean = 3\n",
    "x = 5\n",
    "cdf_value = poisson_cdf(x, mean)\n",
    "print(cdf_value)"
   ]
  },
  {
   "cell_type": "markdown",
   "id": "c03021dc-d373-4f6b-9cfe-6c25ee7e7c01",
   "metadata": {},
   "source": [
    "## Q7. How Binomial distribution different from Poisson distribution?"
   ]
  },
  {
   "cell_type": "markdown",
   "id": "1bf627d0-6a1a-4aca-8bd2-64c165a5ec02",
   "metadata": {},
   "source": [
    "Ans\n",
    "\n",
    "    Binomial Distribution: The binomial distribution assumes a fixed number of trials (n), each with two possible outcomes (success or failure). The trials are assumed to be independent, and the probability of success (p) remains constant for each trial.\n",
    "    \n",
    "    Poisson Distribution: The Poisson distribution assumes an infinite number of trials (or a very large number of trials) occurring in a fixed interval or continuous time. The events are assumed to occur randomly and independently, and the average rate of occurrence (λ) remains constant."
   ]
  },
  {
   "cell_type": "markdown",
   "id": "bdeffbfb-404d-4a0d-84d1-ca55f5837354",
   "metadata": {},
   "source": [
    "## Q8. Generate a random sample of size 1000 from a Poisson distribution with mean 5 and calculate the sample mean and variance."
   ]
  },
  {
   "cell_type": "code",
   "execution_count": 4,
   "id": "4423b1c0-e9bf-45c6-aa09-856b66f251f0",
   "metadata": {},
   "outputs": [
    {
     "name": "stdout",
     "output_type": "stream",
     "text": [
      "Sample Mean: 4.975\n",
      "Sample Variance: 4.492375\n"
     ]
    }
   ],
   "source": [
    "import numpy as np\n",
    "\n",
    "mean = 5\n",
    "sample_size = 1000\n",
    "\n",
    "# Generate the random sample from Poisson distribution\n",
    "random_sample = np.random.poisson(mean, size=sample_size)\n",
    "\n",
    "# Calculate the sample mean\n",
    "sample_mean = np.mean(random_sample)\n",
    "\n",
    "# Calculate the sample variance\n",
    "sample_variance = np.var(random_sample)\n",
    "\n",
    "print(\"Sample Mean:\", sample_mean)\n",
    "print(\"Sample Variance:\", sample_variance)"
   ]
  },
  {
   "cell_type": "markdown",
   "id": "b06220bc-da01-4e00-80cf-20d47e50a5a9",
   "metadata": {},
   "source": [
    "## Q9. How mean and variance are related in Binomial distribution and Poisson distribution?"
   ]
  },
  {
   "cell_type": "markdown",
   "id": "7bada463-14ba-4de7-812b-057b3ebe31a8",
   "metadata": {},
   "source": [
    "Ans\n",
    "\n",
    "    Binomial Distribution:\n",
    "\n",
    "    Mean: In a binomial distribution, the mean (μ) is equal to the product of the number of trials (n) and the probability of success (p). It can be represented as μ = n * p.\n",
    "    Variance: The variance (σ^2) of a binomial distribution is calculated by multiplying the number of trials (n) by the probability of success (p) by the probability of failure (q = 1 - p). It can be expressed as σ^2 = n * p * q.\n",
    "    Relationship: In the binomial distribution, the variance is equal to the mean multiplied by the probability of failure (q). Mathematically, σ^2 = μ * q. As the probability of success (p) approaches 0 or 1, the variance of the distribution decreases and approaches 0.\n",
    "    \n",
    "    Poisson Distribution:\n",
    "\n",
    "    Mean: In a Poisson distribution, the mean (λ) represents the average rate of occurrence or the average number of events in a fixed interval or continuous time.\n",
    "    Variance: The variance (σ^2) of a Poisson distribution is equal to its mean (λ). It can be expressed as σ^2 = λ.\n",
    "    Relationship: In the Poisson distribution, the variance is equal to the mean. This relationship implies that as the average rate of occurrence increases, the spread or variability of the distribution also increases. In other words, when the mean increases, the distribution becomes more dispersed."
   ]
  },
  {
   "cell_type": "markdown",
   "id": "c7464c43-61b5-4c37-9b42-2fb998aa8238",
   "metadata": {},
   "source": [
    "## Q10. In normal distribution with respect to mean position, where does the least frequent data appear?"
   ]
  },
  {
   "cell_type": "markdown",
   "id": "2c9d7b15-c9cd-4f27-b2e9-22975494d5c1",
   "metadata": {},
   "source": [
    "Ans\n",
    "\n",
    "     The least frequent data points appear in the tails of the distribution. The tails are the regions on the left and right sides of the distribution that extend to negative and positive infinity, respectively."
   ]
  },
  {
   "cell_type": "code",
   "execution_count": null,
   "id": "a71f1f6a-3528-4f43-81f0-029752d59540",
   "metadata": {},
   "outputs": [],
   "source": []
  }
 ],
 "metadata": {
  "kernelspec": {
   "display_name": "Python 3 (ipykernel)",
   "language": "python",
   "name": "python3"
  },
  "language_info": {
   "codemirror_mode": {
    "name": "ipython",
    "version": 3
   },
   "file_extension": ".py",
   "mimetype": "text/x-python",
   "name": "python",
   "nbconvert_exporter": "python",
   "pygments_lexer": "ipython3",
   "version": "3.10.8"
  }
 },
 "nbformat": 4,
 "nbformat_minor": 5
}
